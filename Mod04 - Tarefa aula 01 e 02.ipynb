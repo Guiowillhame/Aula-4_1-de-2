{
 "cells": [
  {
   "cell_type": "markdown",
   "metadata": {},
   "source": [
    "# Tarefa 01\n",
    "\n",
    "- Leia os enunciados com atenção\n",
    "- Saiba que pode haver mais de uma resposta correta\n",
    "- Insira novas células de código sempre que achar necessário\n",
    "- Em caso de dúvidas, procure os tutores\n",
    "- Divirta-se :)\n",
    "\n",
    "#### 1)  crie uma série do pandas a partir de uma lista com os dados abaixo:\n",
    "\n",
    "Em um estudo sobre alteração na tempreatura global, A NASA disponibiliza dados de diferenças de de temperatura média da superfície terrestre relativos às médias de temperatura entre 1951 e 1980. Os dados originais podem ser vistos no site da NASA/GISS, e estão dispostos a cada década na tabela abaixo.\n",
    "\n",
    "|ano|anomalia termica|\n",
    "|:-:|:----:|\n",
    "| 1900 | -0.08 |\n",
    "| 1920 | -0.27 |\n",
    "| 1940 | 0.12 |\n",
    "| 1960 | -0.03 |\n",
    "| 1980 | 0.26 |\n",
    "| 2000 | 0.40 |\n",
    "| 2020 | 1.02 |\n",
    "\n",
    "Crie uma séries do Pandas a partir de uma lista com esses dados."
   ]
  },
  {
   "cell_type": "code",
   "execution_count": 78,
   "metadata": {},
   "outputs": [
    {
     "data": {
      "text/plain": [
       "0    1900\n",
       "1    1920\n",
       "2    1940\n",
       "3    1960\n",
       "4    1980\n",
       "5    2000\n",
       "6    2020\n",
       "dtype: int64"
      ]
     },
     "execution_count": 78,
     "metadata": {},
     "output_type": "execute_result"
    }
   ],
   "source": [
    "import pandas as pd\n",
    "import numpy as np\n",
    "\n",
    "# Seu código aqui\n",
    "\n",
    "anos = [1900, 1920, 1940, 1960, 1980, 2000, 2020]\n",
    "pd.Series(data=anos)\n"
   ]
  },
  {
   "cell_type": "code",
   "execution_count": 79,
   "metadata": {},
   "outputs": [
    {
     "data": {
      "text/plain": [
       "0   -0.08\n",
       "1   -0.27\n",
       "2    0.12\n",
       "3   -0.03\n",
       "4    0.26\n",
       "5    0.40\n",
       "6    1.02\n",
       "dtype: float64"
      ]
     },
     "execution_count": 79,
     "metadata": {},
     "output_type": "execute_result"
    }
   ],
   "source": [
    "anomalia_termica = [-0.08, -0.27, 0.12, -0.03, 0.26, 0.40, 1.02]\n",
    "pd.Series(data=anomalia_termica)"
   ]
  },
  {
   "cell_type": "code",
   "execution_count": 80,
   "metadata": {},
   "outputs": [
    {
     "data": {
      "text/plain": [
       "A    1900\n",
       "B    1920\n",
       "C    1940\n",
       "D    1960\n",
       "E    1980\n",
       "F    2000\n",
       "G    2020\n",
       "dtype: int64"
      ]
     },
     "execution_count": 80,
     "metadata": {},
     "output_type": "execute_result"
    }
   ],
   "source": [
    "indice=['A','B','C','D','E','F','G']\n",
    "dados=anos\n",
    "periodocomindex=pd.Series(data=anos, index=indice)\n",
    "periodocomindex\n"
   ]
  },
  {
   "cell_type": "markdown",
   "metadata": {},
   "source": [
    "#### 2) Coloque os anos nos índices conforme a tabela."
   ]
  },
  {
   "cell_type": "code",
   "execution_count": 81,
   "metadata": {},
   "outputs": [
    {
     "data": {
      "text/html": [
       "<div>\n",
       "<style scoped>\n",
       "    .dataframe tbody tr th:only-of-type {\n",
       "        vertical-align: middle;\n",
       "    }\n",
       "\n",
       "    .dataframe tbody tr th {\n",
       "        vertical-align: top;\n",
       "    }\n",
       "\n",
       "    .dataframe thead th {\n",
       "        text-align: right;\n",
       "    }\n",
       "</style>\n",
       "<table border=\"1\" class=\"dataframe\">\n",
       "  <thead>\n",
       "    <tr style=\"text-align: right;\">\n",
       "      <th></th>\n",
       "      <th>Anos</th>\n",
       "    </tr>\n",
       "  </thead>\n",
       "  <tbody>\n",
       "    <tr>\n",
       "      <th>0</th>\n",
       "      <td>1900</td>\n",
       "    </tr>\n",
       "    <tr>\n",
       "      <th>1</th>\n",
       "      <td>1920</td>\n",
       "    </tr>\n",
       "    <tr>\n",
       "      <th>2</th>\n",
       "      <td>1940</td>\n",
       "    </tr>\n",
       "    <tr>\n",
       "      <th>3</th>\n",
       "      <td>1960</td>\n",
       "    </tr>\n",
       "    <tr>\n",
       "      <th>4</th>\n",
       "      <td>1980</td>\n",
       "    </tr>\n",
       "    <tr>\n",
       "      <th>5</th>\n",
       "      <td>2000</td>\n",
       "    </tr>\n",
       "    <tr>\n",
       "      <th>6</th>\n",
       "      <td>2020</td>\n",
       "    </tr>\n",
       "  </tbody>\n",
       "</table>\n",
       "</div>"
      ],
      "text/plain": [
       "   Anos\n",
       "0  1900\n",
       "1  1920\n",
       "2  1940\n",
       "3  1960\n",
       "4  1980\n",
       "5  2000\n",
       "6  2020"
      ]
     },
     "execution_count": 81,
     "metadata": {},
     "output_type": "execute_result"
    }
   ],
   "source": [
    "\n",
    "# seu código aqui\n",
    "pd.DataFrame([1900, 1920, 1940, 1960, 1980, 2000, 2020],columns=['Anos'])\n"
   ]
  },
  {
   "cell_type": "markdown",
   "metadata": {},
   "source": [
    "#### 3) A partir do dicionário abaixo, crie uma séries do Pandas:"
   ]
  },
  {
   "cell_type": "code",
   "execution_count": 82,
   "metadata": {},
   "outputs": [
    {
     "data": {
      "text/plain": [
       "1900   -0.08\n",
       "1920   -0.27\n",
       "1940    0.12\n",
       "1960   -0.03\n",
       "1980    0.26\n",
       "2000    0.40\n",
       "2020    1.02\n",
       "dtype: float64"
      ]
     },
     "execution_count": 82,
     "metadata": {},
     "output_type": "execute_result"
    }
   ],
   "source": [
    "dic_temperaturas = {1900: -.08, 1920: -.27, 1940: .12, 1960: -.03, 1980: .26, 2000: .40, 2020: 1.02}\n",
    "\n",
    "# seu código aqui\n",
    "dic_temperaturas = {1900: -.08, 1920: -.27, 1940: .12, 1960: -.03, 1980: .26, 2000: .40, 2020: 1.02}\n",
    "pd.Series(data=dic_temperaturas )\n"
   ]
  },
  {
   "cell_type": "markdown",
   "metadata": {},
   "source": [
    "Para transformar um nd-array em um DataFrame, você pode usar a biblioteca pandas do Python. Aqui está um exemplo de como fazer isso com o seu array:"
   ]
  },
  {
   "cell_type": "code",
   "execution_count": 99,
   "metadata": {},
   "outputs": [
    {
     "data": {
      "text/html": [
       "<div>\n",
       "<style scoped>\n",
       "    .dataframe tbody tr th:only-of-type {\n",
       "        vertical-align: middle;\n",
       "    }\n",
       "\n",
       "    .dataframe tbody tr th {\n",
       "        vertical-align: top;\n",
       "    }\n",
       "\n",
       "    .dataframe thead th {\n",
       "        text-align: right;\n",
       "    }\n",
       "</style>\n",
       "<table border=\"1\" class=\"dataframe\">\n",
       "  <thead>\n",
       "    <tr style=\"text-align: right;\">\n",
       "      <th></th>\n",
       "      <th>0</th>\n",
       "      <th>1</th>\n",
       "      <th>2</th>\n",
       "    </tr>\n",
       "  </thead>\n",
       "  <tbody>\n",
       "    <tr>\n",
       "      <th>0</th>\n",
       "      <td>114.972414</td>\n",
       "      <td>101.623630</td>\n",
       "      <td>95.663945</td>\n",
       "    </tr>\n",
       "    <tr>\n",
       "      <th>1</th>\n",
       "      <td>110.631679</td>\n",
       "      <td>104.246661</td>\n",
       "      <td>108.757070</td>\n",
       "    </tr>\n",
       "    <tr>\n",
       "      <th>2</th>\n",
       "      <td>98.222358</td>\n",
       "      <td>94.099459</td>\n",
       "      <td>110.276794</td>\n",
       "    </tr>\n",
       "    <tr>\n",
       "      <th>3</th>\n",
       "      <td>107.604461</td>\n",
       "      <td>99.943717</td>\n",
       "      <td>93.644635</td>\n",
       "    </tr>\n",
       "    <tr>\n",
       "      <th>4</th>\n",
       "      <td>95.731890</td>\n",
       "      <td>91.499417</td>\n",
       "      <td>80.094258</td>\n",
       "    </tr>\n",
       "    <tr>\n",
       "      <th>5</th>\n",
       "      <td>89.276857</td>\n",
       "      <td>106.943368</td>\n",
       "      <td>114.713497</td>\n",
       "    </tr>\n",
       "    <tr>\n",
       "      <th>6</th>\n",
       "      <td>92.253058</td>\n",
       "      <td>91.708273</td>\n",
       "      <td>100.658122</td>\n",
       "    </tr>\n",
       "    <tr>\n",
       "      <th>7</th>\n",
       "      <td>90.310801</td>\n",
       "      <td>91.382714</td>\n",
       "      <td>106.023922</td>\n",
       "    </tr>\n",
       "    <tr>\n",
       "      <th>8</th>\n",
       "      <td>95.358953</td>\n",
       "      <td>98.248266</td>\n",
       "      <td>92.319416</td>\n",
       "    </tr>\n",
       "    <tr>\n",
       "      <th>9</th>\n",
       "      <td>105.925832</td>\n",
       "      <td>112.075360</td>\n",
       "      <td>90.596407</td>\n",
       "    </tr>\n",
       "    <tr>\n",
       "      <th>10</th>\n",
       "      <td>103.159087</td>\n",
       "      <td>88.490075</td>\n",
       "      <td>105.436631</td>\n",
       "    </tr>\n",
       "    <tr>\n",
       "      <th>11</th>\n",
       "      <td>86.015840</td>\n",
       "      <td>95.248522</td>\n",
       "      <td>116.922926</td>\n",
       "    </tr>\n",
       "    <tr>\n",
       "      <th>12</th>\n",
       "      <td>103.277645</td>\n",
       "      <td>99.431223</td>\n",
       "      <td>112.638067</td>\n",
       "    </tr>\n",
       "    <tr>\n",
       "      <th>13</th>\n",
       "      <td>92.008970</td>\n",
       "      <td>115.706872</td>\n",
       "      <td>88.258723</td>\n",
       "    </tr>\n",
       "    <tr>\n",
       "      <th>14</th>\n",
       "      <td>94.930864</td>\n",
       "      <td>86.463268</td>\n",
       "      <td>94.295436</td>\n",
       "    </tr>\n",
       "    <tr>\n",
       "      <th>15</th>\n",
       "      <td>103.041067</td>\n",
       "      <td>95.673159</td>\n",
       "      <td>104.377742</td>\n",
       "    </tr>\n",
       "    <tr>\n",
       "      <th>16</th>\n",
       "      <td>95.358182</td>\n",
       "      <td>94.724909</td>\n",
       "      <td>90.512976</td>\n",
       "    </tr>\n",
       "    <tr>\n",
       "      <th>17</th>\n",
       "      <td>113.078006</td>\n",
       "      <td>96.258507</td>\n",
       "      <td>97.118042</td>\n",
       "    </tr>\n",
       "    <tr>\n",
       "      <th>18</th>\n",
       "      <td>113.062691</td>\n",
       "      <td>97.409324</td>\n",
       "      <td>90.932760</td>\n",
       "    </tr>\n",
       "    <tr>\n",
       "      <th>19</th>\n",
       "      <td>109.281732</td>\n",
       "      <td>97.830306</td>\n",
       "      <td>90.373196</td>\n",
       "    </tr>\n",
       "  </tbody>\n",
       "</table>\n",
       "</div>"
      ],
      "text/plain": [
       "             0           1           2\n",
       "0   114.972414  101.623630   95.663945\n",
       "1   110.631679  104.246661  108.757070\n",
       "2    98.222358   94.099459  110.276794\n",
       "3   107.604461   99.943717   93.644635\n",
       "4    95.731890   91.499417   80.094258\n",
       "5    89.276857  106.943368  114.713497\n",
       "6    92.253058   91.708273  100.658122\n",
       "7    90.310801   91.382714  106.023922\n",
       "8    95.358953   98.248266   92.319416\n",
       "9   105.925832  112.075360   90.596407\n",
       "10  103.159087   88.490075  105.436631\n",
       "11   86.015840   95.248522  116.922926\n",
       "12  103.277645   99.431223  112.638067\n",
       "13   92.008970  115.706872   88.258723\n",
       "14   94.930864   86.463268   94.295436\n",
       "15  103.041067   95.673159  104.377742\n",
       "16   95.358182   94.724909   90.512976\n",
       "17  113.078006   96.258507   97.118042\n",
       "18  113.062691   97.409324   90.932760\n",
       "19  109.281732   97.830306   90.373196"
      ]
     },
     "execution_count": 99,
     "metadata": {},
     "output_type": "execute_result"
    }
   ],
   "source": [
    "import pandas as pd\n",
    "import numpy as np\n",
    "\n",
    "arr = np.random.normal(100, 10, (20,3))\n",
    "df = pd.DataFrame(arr)\n",
    "pd.DataFrame(arr)"
   ]
  },
  {
   "cell_type": "markdown",
   "metadata": {},
   "source": [
    "#### 5) Nomeie os índices das linhas com inteiros de 1 a 20, e as colunas com os nomes \"x1\", \"x2\", e \"x3\" respectivamente."
   ]
  },
  {
   "cell_type": "code",
   "execution_count": 117,
   "metadata": {},
   "outputs": [
    {
     "data": {
      "text/html": [
       "<div>\n",
       "<style scoped>\n",
       "    .dataframe tbody tr th:only-of-type {\n",
       "        vertical-align: middle;\n",
       "    }\n",
       "\n",
       "    .dataframe tbody tr th {\n",
       "        vertical-align: top;\n",
       "    }\n",
       "\n",
       "    .dataframe thead th {\n",
       "        text-align: right;\n",
       "    }\n",
       "</style>\n",
       "<table border=\"1\" class=\"dataframe\">\n",
       "  <thead>\n",
       "    <tr style=\"text-align: right;\">\n",
       "      <th></th>\n",
       "      <th>X1</th>\n",
       "      <th>X2</th>\n",
       "      <th>X3</th>\n",
       "    </tr>\n",
       "  </thead>\n",
       "  <tbody>\n",
       "    <tr>\n",
       "      <th>0</th>\n",
       "      <td>94.673165</td>\n",
       "      <td>114.504150</td>\n",
       "      <td>107.747116</td>\n",
       "    </tr>\n",
       "    <tr>\n",
       "      <th>1</th>\n",
       "      <td>82.295441</td>\n",
       "      <td>107.763392</td>\n",
       "      <td>96.914626</td>\n",
       "    </tr>\n",
       "    <tr>\n",
       "      <th>2</th>\n",
       "      <td>107.136944</td>\n",
       "      <td>93.163249</td>\n",
       "      <td>91.662456</td>\n",
       "    </tr>\n",
       "    <tr>\n",
       "      <th>3</th>\n",
       "      <td>86.237010</td>\n",
       "      <td>79.074602</td>\n",
       "      <td>93.117049</td>\n",
       "    </tr>\n",
       "    <tr>\n",
       "      <th>4</th>\n",
       "      <td>106.579397</td>\n",
       "      <td>96.794694</td>\n",
       "      <td>115.977978</td>\n",
       "    </tr>\n",
       "    <tr>\n",
       "      <th>5</th>\n",
       "      <td>105.557889</td>\n",
       "      <td>97.775687</td>\n",
       "      <td>110.866745</td>\n",
       "    </tr>\n",
       "    <tr>\n",
       "      <th>6</th>\n",
       "      <td>106.545741</td>\n",
       "      <td>99.577280</td>\n",
       "      <td>97.161421</td>\n",
       "    </tr>\n",
       "    <tr>\n",
       "      <th>7</th>\n",
       "      <td>108.890173</td>\n",
       "      <td>105.353256</td>\n",
       "      <td>118.930774</td>\n",
       "    </tr>\n",
       "    <tr>\n",
       "      <th>8</th>\n",
       "      <td>104.022008</td>\n",
       "      <td>86.682929</td>\n",
       "      <td>117.176691</td>\n",
       "    </tr>\n",
       "    <tr>\n",
       "      <th>9</th>\n",
       "      <td>106.454866</td>\n",
       "      <td>112.457352</td>\n",
       "      <td>98.803852</td>\n",
       "    </tr>\n",
       "    <tr>\n",
       "      <th>10</th>\n",
       "      <td>104.730744</td>\n",
       "      <td>94.681390</td>\n",
       "      <td>91.764952</td>\n",
       "    </tr>\n",
       "    <tr>\n",
       "      <th>11</th>\n",
       "      <td>96.473196</td>\n",
       "      <td>99.016107</td>\n",
       "      <td>78.740858</td>\n",
       "    </tr>\n",
       "    <tr>\n",
       "      <th>12</th>\n",
       "      <td>101.006532</td>\n",
       "      <td>118.494978</td>\n",
       "      <td>86.668500</td>\n",
       "    </tr>\n",
       "    <tr>\n",
       "      <th>13</th>\n",
       "      <td>98.092361</td>\n",
       "      <td>89.146249</td>\n",
       "      <td>113.229936</td>\n",
       "    </tr>\n",
       "    <tr>\n",
       "      <th>14</th>\n",
       "      <td>96.729914</td>\n",
       "      <td>93.127225</td>\n",
       "      <td>87.030726</td>\n",
       "    </tr>\n",
       "    <tr>\n",
       "      <th>15</th>\n",
       "      <td>88.071609</td>\n",
       "      <td>100.540323</td>\n",
       "      <td>102.329513</td>\n",
       "    </tr>\n",
       "    <tr>\n",
       "      <th>16</th>\n",
       "      <td>112.588529</td>\n",
       "      <td>93.372561</td>\n",
       "      <td>109.047613</td>\n",
       "    </tr>\n",
       "    <tr>\n",
       "      <th>17</th>\n",
       "      <td>92.945316</td>\n",
       "      <td>115.803349</td>\n",
       "      <td>81.019512</td>\n",
       "    </tr>\n",
       "    <tr>\n",
       "      <th>18</th>\n",
       "      <td>117.945360</td>\n",
       "      <td>100.743546</td>\n",
       "      <td>100.360770</td>\n",
       "    </tr>\n",
       "    <tr>\n",
       "      <th>19</th>\n",
       "      <td>108.292572</td>\n",
       "      <td>122.078590</td>\n",
       "      <td>98.074673</td>\n",
       "    </tr>\n",
       "  </tbody>\n",
       "</table>\n",
       "</div>"
      ],
      "text/plain": [
       "            X1          X2          X3\n",
       "0    94.673165  114.504150  107.747116\n",
       "1    82.295441  107.763392   96.914626\n",
       "2   107.136944   93.163249   91.662456\n",
       "3    86.237010   79.074602   93.117049\n",
       "4   106.579397   96.794694  115.977978\n",
       "5   105.557889   97.775687  110.866745\n",
       "6   106.545741   99.577280   97.161421\n",
       "7   108.890173  105.353256  118.930774\n",
       "8   104.022008   86.682929  117.176691\n",
       "9   106.454866  112.457352   98.803852\n",
       "10  104.730744   94.681390   91.764952\n",
       "11   96.473196   99.016107   78.740858\n",
       "12  101.006532  118.494978   86.668500\n",
       "13   98.092361   89.146249  113.229936\n",
       "14   96.729914   93.127225   87.030726\n",
       "15   88.071609  100.540323  102.329513\n",
       "16  112.588529   93.372561  109.047613\n",
       "17   92.945316  115.803349   81.019512\n",
       "18  117.945360  100.743546  100.360770\n",
       "19  108.292572  122.078590   98.074673"
      ]
     },
     "execution_count": 117,
     "metadata": {},
     "output_type": "execute_result"
    }
   ],
   "source": [
    "#seu código aqui\n",
    "pd.DataFrame(arr, columns=['X1', 'X2', 'X3'])"
   ]
  },
  {
   "cell_type": "markdown",
   "metadata": {},
   "source": [
    "#### 6) No DataFrame do exercício 5, crie uma nova coluna como sendo a média das três colunas, e dê a ela o nome de \"media\" (não recomendo colocar acentos em nomes de variáveis)."
   ]
  },
  {
   "cell_type": "code",
   "execution_count": 143,
   "metadata": {},
   "outputs": [],
   "source": [
    "# seu código aqui\n",
    "import pandas as pd\n",
    "import numpy as np\n",
    "\n",
    "arr = np.random.normal(100, 10, (20,3))\n",
    "df = pd.DataFrame(arr)\n",
    "df['média'] = df.sum(axis=1)"
   ]
  },
  {
   "cell_type": "code",
   "execution_count": 145,
   "metadata": {},
   "outputs": [
    {
     "name": "stdout",
     "output_type": "stream",
     "text": [
      "             0           1           2       média\n",
      "0    83.372192  102.656267   91.526957  277.555416\n",
      "1   109.728476   89.504531   88.814132  288.047140\n",
      "2    89.990312  111.991087   86.649607  288.631006\n",
      "3    90.536435   90.960999   99.941128  281.438562\n",
      "4    89.908506  101.626714   97.858798  289.394017\n",
      "5    91.776193  101.657990  101.384814  294.818997\n",
      "6    67.870267   99.298587   93.639782  260.808636\n",
      "7    99.052713  100.764328  114.690270  314.507311\n",
      "8   111.046085  108.679558  102.598847  322.324490\n",
      "9   107.568300  111.883917  102.521593  321.973810\n",
      "10   99.182626  113.330585   85.942382  298.455594\n",
      "11  105.379008  105.852229  105.745323  316.976560\n",
      "12  110.258649   98.981565  112.832438  322.072652\n",
      "13  105.417762  113.529339   99.754656  318.701757\n",
      "14   93.199411  114.774268  100.392538  308.366218\n",
      "15  103.473226   91.333730  113.825231  308.632186\n",
      "16  109.898413   99.348196   90.676752  299.923361\n",
      "17   94.407831   92.777255  108.844882  296.029969\n",
      "18   99.248717   84.043650   86.216339  269.508706\n",
      "19   93.964209   97.662328   93.187969  284.814506\n"
     ]
    }
   ],
   "source": [
    "print(df)"
   ]
  },
  {
   "cell_type": "markdown",
   "metadata": {},
   "source": [
    "#### 7) No DataFrame do exercício 6, crie uma nova coluna chamada \"log_med\", contendo o logaritmo natural da média calculada no exercício 6 <br>"
   ]
  },
  {
   "cell_type": "code",
   "execution_count": 146,
   "metadata": {},
   "outputs": [],
   "source": [
    "# seu código aqui\n",
    "import pandas as pd\n",
    "import numpy as np\n",
    "\n",
    "arr = np.random.normal(100, 10, (20,3))\n",
    "df = pd.DataFrame(arr)\n",
    "df['média'] = df.sum(axis=1)\n",
    "df['log_med'] = df['média'].apply(np.log)"
   ]
  },
  {
   "cell_type": "code",
   "execution_count": 147,
   "metadata": {},
   "outputs": [
    {
     "name": "stdout",
     "output_type": "stream",
     "text": [
      "             0           1           2       média   log_med\n",
      "0   103.932184   91.434050  101.068085  296.434319  5.691826\n",
      "1   118.254071   86.342624  101.718927  306.315622  5.724616\n",
      "2    77.553707  123.140985  110.314416  311.009108  5.739822\n",
      "3   105.406302   93.766293  112.222088  311.394683  5.741061\n",
      "4   102.610852  108.617688   90.527750  301.756290  5.709620\n",
      "5   101.327296  101.048646   92.697325  295.073266  5.687224\n",
      "6   102.900950  104.167413   98.354406  305.422769  5.721697\n",
      "7   112.798575  113.836667  104.581659  331.216900  5.802773\n",
      "8    95.372907  110.633118   98.425608  304.431633  5.718447\n",
      "9   115.038455   89.755258   79.949956  284.743668  5.651589\n",
      "10  104.387311   88.176295   99.399557  291.963163  5.676628\n",
      "11   89.757129   97.552590   93.741482  281.051201  5.638537\n",
      "12   96.366940   98.518962   91.780386  286.666288  5.658319\n",
      "13   96.282075  105.410819  103.219047  304.911942  5.720023\n",
      "14   83.303079  105.401864   97.418808  286.123752  5.656424\n",
      "15  107.532669  110.336218   91.523939  309.392826  5.734612\n",
      "16   95.533975   86.191760  100.289405  282.015139  5.641961\n",
      "17   88.732269   91.428056   94.955333  275.115658  5.617192\n",
      "18   90.781021  104.817326   80.326694  275.925040  5.620129\n",
      "19  107.967266   91.424263   99.509493  298.901023  5.700112\n"
     ]
    }
   ],
   "source": [
    "print(df)"
   ]
  },
  {
   "cell_type": "code",
   "execution_count": null,
   "metadata": {},
   "outputs": [],
   "source": []
  }
 ],
 "metadata": {
  "kernelspec": {
   "display_name": "Python 3 (ipykernel)",
   "language": "python",
   "name": "python3"
  },
  "language_info": {
   "codemirror_mode": {
    "name": "ipython",
    "version": 3
   },
   "file_extension": ".py",
   "mimetype": "text/x-python",
   "name": "python",
   "nbconvert_exporter": "python",
   "pygments_lexer": "ipython3",
   "version": "3.10.9"
  }
 },
 "nbformat": 4,
 "nbformat_minor": 4
}
